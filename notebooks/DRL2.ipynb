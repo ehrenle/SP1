{
 "cells": [
  {
   "cell_type": "markdown",
   "metadata": {},
   "source": [
    "# Deep Reinforcement Learning Agent\n",
    "\n",
    "Hilfreiche Erklärungen am Beispiel CartPole:\n",
    "- https://pytorch.org/tutorials/intermediate/reinforcement_q_learning.html\n",
    "- https://www.tensorflow.org/agents/tutorials/1_dqn_tutorial"
   ]
  },
  {
   "cell_type": "markdown",
   "metadata": {},
   "source": [
    "## Abhängigkeiten installieren"
   ]
  },
  {
   "cell_type": "code",
   "execution_count": null,
   "metadata": {},
   "outputs": [],
   "source": [
    "%pip install typing-extensions==4.5.0\n",
    "%pip install ipython==8.23.0\n",
    "# this is needed to resolve the dependency conflict between tf-agents and ipython\n",
    "# tf-agents requires typing-extensions==4.5.0\n",
    "# ipython 8.25.0 requires typing-extensions>=4.6, which causes a conflict\n",
    "# downgrading ipython to version 8.23.0 ensures compatibility with typing-extensions 4.5.0\n",
    "\n",
    "#%pip install tensorflow-cpu\n",
    "%pip install tf-agents[reverb]\n",
    "%pip install tf-keras"
   ]
  },
  {
   "cell_type": "code",
   "execution_count": null,
   "metadata": {},
   "outputs": [],
   "source": [
    "import os\n",
    "# Keep using keras-2 (tf-keras) rather than keras-3 (keras).\n",
    "os.environ['TF_USE_LEGACY_KERAS'] = '1'"
   ]
  },
  {
   "cell_type": "code",
   "execution_count": null,
   "metadata": {},
   "outputs": [],
   "source": [
    "import tensorflow as tf\n",
    "from tf_agents.environments import py_environment\n",
    "from tf_agents.environments import tf_py_environment\n",
    "from tf_agents.networks import q_network\n",
    "from tf_agents.agents.dqn import dqn_agent\n"
   ]
  },
  {
   "cell_type": "markdown",
   "metadata": {},
   "source": [
    "## Umgebung definieren"
   ]
  },
  {
   "cell_type": "code",
   "execution_count": null,
   "metadata": {},
   "outputs": [],
   "source": [
    "class LoginEnv(py_environment.PyEnvironment):\n",
    "    def __init__(self):\n",
    "        \n",
    "        # Zustandseigenschaften: Richtiges Passwort (boolean), Zeit zwischen Loginversuchen (date), Falsches Passwort Zähler (int), letzte Aktion (int)\n",
    "        self.observation_space = spaces.Box(low=0, high=1, shape=(4,), dtype=np.float32)\n",
    "        \n",
    "        # Aktionen: 0 = Nicht sperren, 1 = 30s sperren, 2 = 1m sperren, 3 = 3min sperren, 4 = Dauerhaft sperren\n",
    "        self.action_space = spaces.Discrete(5)\n",
    "        \n",
    "        # Interne Zustandsvariablen\n",
    "        self.incorrect_password = False\n",
    "        self.time_between_attempts = np.random.randint(0, 3600) # 1 sec to 1h (in seconds)\n",
    "        self.incorrect_password_count = 0 \n",
    "        self.last_action = 0\n",
    "    \n",
    "    def _reset(self):\n",
    "        self.incorrect_password = np.random.choice([True, False])\n",
    "        self.time_between_attempts = np.random.randint(0, 3600) # 1 sec bis 1h (in Sekunden)\n",
    "        self.incorrect_password_count = np.random.randint(0, 11)\n",
    "        self.last_action = np.random.randint(1, 3) if self.incorrect_password_count > 0 else 0\n",
    "        return np.array([\n",
    "            self.incorrect_password,\n",
    "            self.time_between_attempts,\n",
    "            self.incorrect_password_count,\n",
    "            self.last_action\n",
    "        ])\n",
    "\n",
    "    def _step(self, action):\n",
    "        reward = 0\n",
    "        done = False\n",
    "        \n",
    "        if action == 0:  # Nicht sperren\n",
    "            if not self.incorrect_password:\n",
    "                reward = 1\n",
    "                done = True\n",
    "            elif self.time_between_attempts <= 3 or self.incorrect_password_count >= 10:\n",
    "                reward = -1\n",
    "                done = True\n",
    "            else:\n",
    "                reward = 0\n",
    "        elif action == 1:  # 30s sperren\n",
    "            if not self.incorrect_password:\n",
    "                reward = -1\n",
    "                done = True\n",
    "            elif self.time_between_attempts <= 3 or (3 < self.incorrect_password_count <= 6):\n",
    "                reward = 1\n",
    "                done = True\n",
    "            else:\n",
    "                reward = 0\n",
    "        elif action == 2:  # 1m sperren\n",
    "            if not self.incorrect_password:\n",
    "                reward = -1\n",
    "                done = True\n",
    "            elif (6 < self.incorrect_password_count <= 9):\n",
    "                reward = 1\n",
    "                done = True\n",
    "            else:\n",
    "                reward = 0\n",
    "        elif action == 3:  # 3min sperren\n",
    "            if not self.incorrect_password:\n",
    "                reward = -1\n",
    "                done = True\n",
    "            elif (9 < self.incorrect_password_count < 10):\n",
    "                reward = 1\n",
    "                done = True\n",
    "            else:\n",
    "                reward = 0\n",
    "        elif action == 4:  # Dauerhaft sperren\n",
    "            if self.incorrect_password_count >= 10:\n",
    "                reward = 1\n",
    "                done = True\n",
    "            else:\n",
    "                reward = -1\n",
    "                done = True\n",
    "\n",
    "        return reward, done\n",
    "\n",
    "    def action_spec(self):\n",
    "        return self._action_spec\n",
    "\n",
    "    def observation_spec(self):\n",
    "        return self._observation_spec\n"
   ]
  },
  {
   "cell_type": "code",
   "execution_count": null,
   "metadata": {},
   "outputs": [],
   "source": [
    "py_env = LoginEnv()\n",
    "env = tf_py_environment.TFPyEnvironment(py_env)"
   ]
  },
  {
   "cell_type": "markdown",
   "metadata": {},
   "source": [
    "## Deep Reinforcement Learning Agent (DQN-Agent) definieren"
   ]
  },
  {
   "cell_type": "code",
   "execution_count": null,
   "metadata": {},
   "outputs": [],
   "source": [
    "# Erstelle das Q-Network\n",
    "fc_layer_params = (64, 64)\n",
    "q_net = q_network.QNetwork(\n",
    "    env.observation_spec(),\n",
    "    env.action_spec(),\n",
    "    fc_layer_params=fc_layer_params)\n",
    "\n",
    "# Konfiguriere den DQN-Agenten\n",
    "optimizer = tf.compat.v1.train.AdamOptimizer(learning_rate=0.001)\n",
    "train_step_counter = tf.Variable(0)\n",
    "agent = dqn_agent.DqnAgent(\n",
    "    env.time_step_spec(),\n",
    "    env.action_spec(),\n",
    "    q_network=q_net,\n",
    "    optimizer=optimizer,\n",
    "    td_errors_loss_fn=common.element_wise_squared_loss,\n",
    "    train_step_counter=train_step_counter)\n",
    "\n",
    "# Initialisiere und kompiliere den Agenten\n",
    "agent.initialize()"
   ]
  },
  {
   "cell_type": "markdown",
   "metadata": {},
   "source": [
    "## Policy definieren"
   ]
  },
  {
   "cell_type": "code",
   "execution_count": null,
   "metadata": {},
   "outputs": [],
   "source": [
    "policy = boltzmann_policy.BoltzmannPolicy(agent.policy)"
   ]
  },
  {
   "cell_type": "markdown",
   "metadata": {},
   "source": [
    "## Metriken und Auswertung"
   ]
  },
  {
   "cell_type": "code",
   "execution_count": null,
   "metadata": {},
   "outputs": [],
   "source": [
    "def compute_average_return(environment, policy, num_episodes=10):\n",
    "    total_return = 0.0\n",
    "    for _ in range(num_episodes):\n",
    "        time_step = environment.reset()\n",
    "        episode_return = 0.0\n",
    "        while not time_step.is_last():\n",
    "            action_step = policy.action(time_step)\n",
    "            time_step = environment.step(action_step.action)\n",
    "            episode_return += time_step.reward\n",
    "        total_return += episode_return\n",
    "    average_return = total_return / num_episodes\n",
    "    return average_return # oder return avg_return.numpy()[0]?"
   ]
  },
  {
   "cell_type": "markdown",
   "metadata": {},
   "source": [
    "## Wiederholungspuffer"
   ]
  },
  {
   "cell_type": "code",
   "execution_count": null,
   "metadata": {},
   "outputs": [],
   "source": [
    "import reverb\n",
    "\n",
    "# Create a replay buffer table\n",
    "table_name = 'replay_buffer'\n",
    "table = reverb.Table(\n",
    "    table_name,\n",
    "    max_size=10000,\n",
    "    sampler=reverb.selectors.Uniform(),\n",
    "    remover=reverb.selectors.Fifo(),\n",
    "    rate_limiter=reverb.rate_limiters.MinSize(1))\n",
    "\n",
    "# Create a replay buffer server\n",
    "server = reverb.Server([table])\n",
    "\n",
    "# Create a replay buffer client\n",
    "client = reverb.Client(f'localhost:{server.port}')\n",
    "\n",
    "# Get the data specs from the agent\n",
    "data_spec = agent.collect_data_spec\n",
    "\n",
    "# Create a replay buffer dataset\n",
    "replay_buffer_dataset = reverb.ReplayDataset(\n",
    "    table_name,\n",
    "    client=client,\n",
    "    sequence_length=2,\n",
    "    num_parallel_calls=1,\n",
    "    max_in_flight_samples_per_worker=2)\n",
    "\n",
    "# Print the data specs\n",
    "print(data_spec)"
   ]
  },
  {
   "cell_type": "markdown",
   "metadata": {},
   "source": [
    "## Datensammlung"
   ]
  },
  {
   "cell_type": "code",
   "execution_count": null,
   "metadata": {},
   "outputs": [],
   "source": []
  },
  {
   "cell_type": "markdown",
   "metadata": {},
   "source": [
    "## Training des Agenten"
   ]
  },
  {
   "cell_type": "code",
   "execution_count": null,
   "metadata": {},
   "outputs": [],
   "source": []
  },
  {
   "cell_type": "markdown",
   "metadata": {},
   "source": [
    "## Visualisierung"
   ]
  },
  {
   "cell_type": "code",
   "execution_count": null,
   "metadata": {},
   "outputs": [],
   "source": []
  }
 ],
 "metadata": {
  "kernelspec": {
   "display_name": ".venv",
   "language": "python",
   "name": "python3"
  },
  "language_info": {
   "codemirror_mode": {
    "name": "ipython",
    "version": 3
   },
   "file_extension": ".py",
   "mimetype": "text/x-python",
   "name": "python",
   "nbconvert_exporter": "python",
   "pygments_lexer": "ipython3",
   "version": "3.10.13"
  }
 },
 "nbformat": 4,
 "nbformat_minor": 2
}
