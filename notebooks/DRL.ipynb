{
 "cells": [
  {
   "cell_type": "markdown",
   "id": "5b7409b1-fa35-4444-8efc-b7876d97b057",
   "metadata": {},
   "source": [
    "# Deep Reinforcement Learning Agent"
   ]
  },
  {
   "cell_type": "code",
   "execution_count": null,
   "id": "86986e5c",
   "metadata": {},
   "outputs": [],
   "source": [
    "# Install Dependencies\n",
    "%pip install tensorflow-cpu\n",
    "%pip install gym\n",
    "%pip install keras\n",
    "%pip install keras-rl"
   ]
  },
  {
   "cell_type": "markdown",
   "id": "cebff1e1",
   "metadata": {},
   "source": [
    "## Umgebung definieren\n",
    "Wir erstellen eine einfache Umgebung (Environment) in OpenAI Gym, die den Benutzername und das Passwort als Observation liefert."
   ]
  },
  {
   "cell_type": "code",
   "execution_count": null,
   "id": "41eaacc1",
   "metadata": {},
   "outputs": [],
   "source": [
    "# Imports\n",
    "import gym\n",
    "from gym import spaces\n",
    "import numpy as np"
   ]
  },
  {
   "cell_type": "code",
   "execution_count": null,
   "id": "7dd48cda",
   "metadata": {},
   "outputs": [],
   "source": [
    "class LoginEnv(gym.Env):\n",
    "    def __init__(self):\n",
    "        super(LoginEnv, self).__init__()\n",
    "        \n",
    "        # Zustandseigenschaften: Richtiges Passwort (boolean), Zeit zwischen Loginversuchen (date), Falsches Passwort Zähler (int), letzte Aktion (int)\n",
    "        self.observation_space = spaces.Box(low=0, high=1, shape=(4,), dtype=np.float32)\n",
    "        \n",
    "        # Aktionen: 0 = Nicht sperren, 1 = 30s sperren, 2 = 1m sperren, 3 = 3min sperren, 4 = Dauerhaft sperren\n",
    "        self.action_space = spaces.Discrete(5)\n",
    "        \n",
    "        # Interne Zustandsvariablen\n",
    "        self.incorrect_password = False\n",
    "        self.time_between_attempts = np.random.randint(0, 3600) # 1 sec to 1h (in seconds)\n",
    "        self.incorrect_password_count = 0 \n",
    "        self.last_action = 0\n",
    "    \n",
    "    def reset(self):\n",
    "        self.incorrect_password = np.random.choice([True, False])\n",
    "        self.time_between_attempts = np.random.randint(0, 3600) # 1 sec bis 1h (in Sekunden)\n",
    "        self.incorrect_password_count = np.random.randint(0, 11)\n",
    "        self.last_action = np.random.randint(1, 3) if self.incorrect_password_count > 0 else 0\n",
    "        return np.array([\n",
    "            self.incorrect_password,\n",
    "            self.time_between_attempts,\n",
    "            self.incorrect_password_count,\n",
    "            self.last_action\n",
    "        ])\n",
    "\n",
    "    def step(self, action):\n",
    "        reward = 0\n",
    "        done = False\n",
    "        \n",
    "        if action == 0:  # Nicht sperren\n",
    "            if not self.incorrect_password:\n",
    "                reward = 1\n",
    "                done = True\n",
    "            elif self.time_between_attempts <= 3 or self.incorrect_password_count >= 10:\n",
    "                reward = -1\n",
    "                done = True\n",
    "            else:\n",
    "                reward = 0\n",
    "        elif action == 1:  # 30s sperren\n",
    "            if not self.incorrect_password:\n",
    "                reward = -1\n",
    "                done = True\n",
    "            elif self.time_between_attempts <= 3 or (3 < self.incorrect_password_count <= 6):\n",
    "                reward = 1\n",
    "                done = True\n",
    "            else:\n",
    "                reward = 0\n",
    "        elif action == 2:  # 1m sperren\n",
    "            if not self.incorrect_password:\n",
    "                reward = -1\n",
    "                done = True\n",
    "            elif (6 < self.incorrect_password_count <= 9):\n",
    "                reward = 1\n",
    "                done = True\n",
    "            else:\n",
    "                reward = 0\n",
    "        elif action == 3:  # 3min sperren\n",
    "            if not self.incorrect_password:\n",
    "                reward = -1\n",
    "                done = True\n",
    "            elif (9 < self.incorrect_password_count < 10):\n",
    "                reward = 1\n",
    "                done = True\n",
    "            else:\n",
    "                reward = 0\n",
    "        elif action == 4:  # Dauerhaft sperren\n",
    "            if self.incorrect_password_count >= 10:\n",
    "                reward = 1\n",
    "                done = True\n",
    "            else:\n",
    "                reward = -1\n",
    "                done = True\n",
    "\n",
    "        return reward, done\n",
    "\n"
   ]
  },
  {
   "cell_type": "markdown",
   "id": "3632bb43",
   "metadata": {},
   "source": [
    "## Umgebung testen"
   ]
  },
  {
   "cell_type": "code",
   "execution_count": null,
   "id": "8da37fbe",
   "metadata": {},
   "outputs": [],
   "source": [
    "env = LoginEnv()\n",
    "\n",
    "num_episodes = 10\n",
    "for episode in range(num_episodes):\n",
    "    state = env.reset()\n",
    "    done = False\n",
    "    total_reward = 0\n",
    "    \n",
    "    while not done:\n",
    "        action = env.action_space.sample()\n",
    "        reward, done = env.step(action)\n",
    "        total_reward += reward\n",
    "        print(f'State: {state}, Reward: {reward}')\n",
    "\n",
    "    \n",
    "    print(f'Episode {episode + 1}: Total Reward = {total_reward}')"
   ]
  },
  {
   "cell_type": "markdown",
   "id": "3e8ed212",
   "metadata": {},
   "source": [
    "## Deep Learning Modell definieren"
   ]
  },
  {
   "cell_type": "code",
   "execution_count": null,
   "id": "45dfb6a3",
   "metadata": {},
   "outputs": [],
   "source": [
    "# Imports\n",
    "import tensorflow as tf\n",
    "from tensorflow import keras\n"
   ]
  },
  {
   "cell_type": "code",
   "execution_count": null,
   "id": "ff177d82",
   "metadata": {},
   "outputs": [],
   "source": [
    "def build_model():\n",
    "    model = keras.models.Sequential([\n",
    "        keras.layers.Input(shape=(4,)),  # Eingabeschicht mit 4 Neuronen (entspricht der Größe des Zustandsraums)\n",
    "        keras.layers.Dense(64, activation='relu'),  # Erste verborgene Schicht mit 64 Neuronen\n",
    "        keras.layers.Dense(64, activation='relu'),  # Zweite verborgene Schicht mit 64 Neuronen\n",
    "        keras.layers.Dense(5, activation='linear')  # Ausgabeschicht mit 5 Neuronen (entspricht der Anzahl der möglichen Aktionen)\n",
    "    ])\n",
    "    \n",
    "    model.compile(optimizer=keras.optimizers.Adam(learning_rate=0.001), loss='mse')  # Mean Squared Error Verlustfunktion\n",
    "\n",
    "    return model"
   ]
  },
  {
   "cell_type": "code",
   "execution_count": null,
   "id": "c611dac4",
   "metadata": {},
   "outputs": [],
   "source": [
    "model = build_model()\n",
    "model.summary()"
   ]
  },
  {
   "cell_type": "markdown",
   "id": "8bf6cd68",
   "metadata": {},
   "source": [
    "## Deep Reeinforcement Learning Agenten definieren\n",
    "Hier definieren wir ein einfaches neuronales Netzwerk mit TensorFlow, das die Umgebung steuert."
   ]
  },
  {
   "cell_type": "code",
   "execution_count": null,
   "id": "8a69bfdf",
   "metadata": {},
   "outputs": [],
   "source": [
    "# Imports\n",
    "from rl.agents import DQNAgent\n",
    "from rl.policy import BoltzmannQPolicy\n",
    "from rl.memory import SequentialMemory"
   ]
  },
  {
   "cell_type": "code",
   "execution_count": null,
   "id": "b5daa152",
   "metadata": {},
   "outputs": [],
   "source": [
    "def build_agent(model, actions):\n",
    "    policy = BoltzmannQPolicy()\n",
    "    memory = SequentialMemory(limit=50000, window_length=1)\n",
    "    dqn = DQNAgent(model=model, memory=memory, policy=policy, \n",
    "            nb_actions=actions, nb_steps_warmup=10, target_model_update=1e-2)\n",
    "    return dqn"
   ]
  },
  {
   "cell_type": "code",
   "execution_count": null,
   "id": "49895f6a",
   "metadata": {},
   "outputs": [],
   "source": [
    "dqn = build_agent(model, env.action_space.n)\n",
    "dqn.compile(keras.optimizers.Adam(lr=1e-3), metrics=['mae'])\n",
    "dqn.fit(env, nb_steps=50000, visualize=False, verbose=1)"
   ]
  }
 ],
 "metadata": {
  "kernelspec": {
   "display_name": "Python 3 (ipykernel)",
   "language": "python",
   "name": "python3"
  },
  "language_info": {
   "codemirror_mode": {
    "name": "ipython",
    "version": 3
   },
   "file_extension": ".py",
   "mimetype": "text/x-python",
   "name": "python",
   "nbconvert_exporter": "python",
   "pygments_lexer": "ipython3",
   "version": "3.10.13"
  }
 },
 "nbformat": 4,
 "nbformat_minor": 5
}
