{
 "cells": [
  {
   "cell_type": "markdown",
   "id": "5b7409b1-fa35-4444-8efc-b7876d97b057",
   "metadata": {},
   "source": [
    "# Deep Reinforcement Learning Agent\n",
    "\n",
    "Hilfreiche Erklärungen am Beispiel CartPole:\n",
    "- https://pytorch.org/tutorials/intermediate/reinforcement_q_learning.html\n",
    "- https://www.tensorflow.org/agents/tutorials/1_dqn_tutorial"
   ]
  },
  {
   "cell_type": "code",
   "execution_count": null,
   "id": "86986e5c",
   "metadata": {},
   "outputs": [],
   "source": [
    "# Install Dependencies\n",
    "%pip install tensorflow-cpu\n",
    "%pip install gym\n",
    "%pip install tf-keras\n",
    "%pip install tf-agents"
   ]
  },
  {
   "cell_type": "code",
   "execution_count": null,
   "id": "625c9ac2",
   "metadata": {},
   "outputs": [],
   "source": [
    "import os\n",
    "# Keep using keras-2 (tf-keras) rather than keras-3 (keras).\n",
    "os.environ['TF_USE_LEGACY_KERAS'] = '1'"
   ]
  },
  {
   "cell_type": "markdown",
   "id": "cebff1e1",
   "metadata": {},
   "source": [
    "## Umgebung definieren\n",
    "Wir erstellen eine einfache Umgebung (Environment) in OpenAI Gym, die den Benutzername und das Passwort als Observation liefert."
   ]
  },
  {
   "cell_type": "code",
   "execution_count": null,
   "id": "41eaacc1",
   "metadata": {},
   "outputs": [],
   "source": [
    "# Imports\n",
    "import gym\n",
    "from gym import spaces\n",
    "import numpy as np\n",
    "\n",
    "from tf_agents.environments import py_environment\n",
    "from tf_agents.specs import array_spec\n",
    "from tf_agents.trajectories import time_step as ts"
   ]
  },
  {
   "cell_type": "code",
   "execution_count": null,
   "id": "7dd48cda",
   "metadata": {},
   "outputs": [],
   "source": [
    "class LoginEnv(gym.Env):\n",
    "    def __init__(self):\n",
    "        super(LoginEnv, self).__init__()\n",
    "        \n",
    "        # Zustandseigenschaften: Richtiges Passwort (boolean), Zeit zwischen Loginversuchen (date), Falsches Passwort Zähler (int), letzte Aktion (int)\n",
    "        self.observation_space = spaces.Box(low=0, high=1, shape=(4,), dtype=np.float32)\n",
    "        \n",
    "        # Aktionen: 0 = Nicht sperren, 1 = 30s sperren, 2 = 1m sperren, 3 = 3min sperren, 4 = Dauerhaft sperren\n",
    "        self.action_space = spaces.Discrete(5)\n",
    "        \n",
    "        # Interne Zustandsvariablen\n",
    "        self.incorrect_password = False\n",
    "        self.time_between_attempts = np.random.randint(0, 3600) # 1 sec to 1h (in seconds)\n",
    "        self.incorrect_password_count = 0 \n",
    "        self.last_action = 0\n",
    "    \n",
    "    def reset(self):\n",
    "        self.incorrect_password = np.random.choice([True, False])\n",
    "        self.time_between_attempts = np.random.randint(0, 3600) # 1 sec bis 1h (in Sekunden)\n",
    "        self.incorrect_password_count = np.random.randint(0, 11)\n",
    "        self.last_action = np.random.randint(1, 3) if self.incorrect_password_count > 0 else 0\n",
    "        return np.array([\n",
    "            self.incorrect_password,\n",
    "            self.time_between_attempts,\n",
    "            self.incorrect_password_count,\n",
    "            self.last_action\n",
    "        ])\n",
    "\n",
    "    def step(self, action):\n",
    "        reward = 0\n",
    "        done = False\n",
    "        \n",
    "        if action == 0:  # Nicht sperren\n",
    "            if not self.incorrect_password:\n",
    "                reward = 1\n",
    "                done = True\n",
    "            elif self.time_between_attempts <= 3 or self.incorrect_password_count >= 10:\n",
    "                reward = -1\n",
    "                done = True\n",
    "            else:\n",
    "                reward = 0\n",
    "        elif action == 1:  # 30s sperren\n",
    "            if not self.incorrect_password:\n",
    "                reward = -1\n",
    "                done = True\n",
    "            elif self.time_between_attempts <= 3 or (3 < self.incorrect_password_count <= 6):\n",
    "                reward = 1\n",
    "                done = True\n",
    "            else:\n",
    "                reward = 0\n",
    "        elif action == 2:  # 1m sperren\n",
    "            if not self.incorrect_password:\n",
    "                reward = -1\n",
    "                done = True\n",
    "            elif (6 < self.incorrect_password_count <= 9):\n",
    "                reward = 1\n",
    "                done = True\n",
    "            else:\n",
    "                reward = 0\n",
    "        elif action == 3:  # 3min sperren\n",
    "            if not self.incorrect_password:\n",
    "                reward = -1\n",
    "                done = True\n",
    "            elif (9 < self.incorrect_password_count < 10):\n",
    "                reward = 1\n",
    "                done = True\n",
    "            else:\n",
    "                reward = 0\n",
    "        elif action == 4:  # Dauerhaft sperren\n",
    "            if self.incorrect_password_count >= 10:\n",
    "                reward = 1\n",
    "                done = True\n",
    "            else:\n",
    "                reward = -1\n",
    "                done = True\n",
    "\n",
    "        return reward, done\n",
    "\n"
   ]
  },
  {
   "cell_type": "code",
   "execution_count": null,
   "id": "caa4cf4c",
   "metadata": {},
   "outputs": [],
   "source": [
    "class LoginEnvWrapper(py_environment.PyEnvironment):\n",
    "    def __init__(self):\n",
    "        self.env = LoginEnv()  # Initialisieren des gym Environments\n",
    "        self._action_spec = array_spec.BoundedArraySpec(\n",
    "            shape=(), dtype=np.int32, minimum=0, maximum=4, name='action')\n",
    "        self._observation_spec = array_spec.BoundedArraySpec(\n",
    "            shape=(4,), dtype=np.float32, minimum=0, maximum=1, name='observation')\n",
    "        self._state = None\n",
    "        self._episode_ended = False\n",
    "\n",
    "    def action_spec(self):\n",
    "        return self._action_spec\n",
    "\n",
    "    def observation_spec(self):\n",
    "        return self._observation_spec\n",
    "\n",
    "    def _reset(self):\n",
    "        self._state = self.env.reset()\n",
    "        self._episode_ended = False\n",
    "        return ts.restart(np.array(self._state, dtype=np.float32))\n",
    "\n",
    "    def _step(self, action):\n",
    "        if self._episode_ended:\n",
    "            return self.reset()\n",
    "\n",
    "        reward, done = self.env.step(action)\n",
    "        self._episode_ended = done\n",
    "\n",
    "        if done:\n",
    "            return ts.termination(np.array(self._state, dtype=np.float32), reward)\n",
    "        else:\n",
    "            self._state = self.env.step(action)[0]  # Aktualisieren des Zustands\n",
    "            return ts.transition(np.array(self._state, dtype=np.float32), reward=reward)"
   ]
  },
  {
   "cell_type": "markdown",
   "id": "3632bb43",
   "metadata": {},
   "source": [
    "## Umgebung testen"
   ]
  },
  {
   "cell_type": "code",
   "execution_count": null,
   "id": "8da37fbe",
   "metadata": {},
   "outputs": [],
   "source": [
    "env = LoginEnv()\n",
    "\n",
    "num_episodes = 10\n",
    "for episode in range(num_episodes):\n",
    "    state = env.reset()\n",
    "    done = False\n",
    "    total_reward = 0\n",
    "    \n",
    "    while not done:\n",
    "        action = env.action_space.sample()\n",
    "        reward, done = env.step(action)\n",
    "        total_reward += reward\n",
    "        print(f'State: {state}, Reward: {reward}')\n",
    "\n",
    "    \n",
    "    print(f'Episode {episode + 1}: Total Reward = {total_reward}')"
   ]
  },
  {
   "cell_type": "markdown",
   "id": "3e8ed212",
   "metadata": {},
   "source": [
    "## Deep Learning Modell definieren"
   ]
  },
  {
   "cell_type": "code",
   "execution_count": null,
   "id": "45dfb6a3",
   "metadata": {},
   "outputs": [],
   "source": [
    "# Imports\n",
    "from tensorflow import keras\n"
   ]
  },
  {
   "cell_type": "code",
   "execution_count": null,
   "id": "ff177d82",
   "metadata": {},
   "outputs": [],
   "source": [
    "def build_model():\n",
    "    model = keras.models.Sequential([\n",
    "        keras.layers.Input(shape=(4,)),  # Eingabeschicht mit 4 Neuronen (entspricht der Größe des Zustandsraums)\n",
    "        keras.layers.Dense(64, activation='relu'),  # Erste verborgene Schicht mit 64 Neuronen\n",
    "        keras.layers.Dense(64, activation='relu'),  # Zweite verborgene Schicht mit 64 Neuronen\n",
    "        keras.layers.Dense(5, activation='linear')  # Ausgabeschicht mit 5 Neuronen (entspricht der Anzahl der möglichen Aktionen)\n",
    "    ])\n",
    "    \n",
    "    model.compile(optimizer=keras.optimizers.Adam(learning_rate=0.001), loss='mse')  # Mean Squared Error Verlustfunktion\n",
    "\n",
    "    return model"
   ]
  },
  {
   "cell_type": "code",
   "execution_count": null,
   "id": "c611dac4",
   "metadata": {},
   "outputs": [],
   "source": [
    "model = build_model()\n",
    "model.summary()"
   ]
  },
  {
   "cell_type": "markdown",
   "id": "8bf6cd68",
   "metadata": {},
   "source": [
    "## Deep Reeinforcement Learning Agenten definieren\n",
    "Hier definieren wir ein einfaches neuronales Netzwerk mit TensorFlow, das die Umgebung steuert."
   ]
  },
  {
   "cell_type": "code",
   "execution_count": null,
   "id": "8a69bfdf",
   "metadata": {},
   "outputs": [],
   "source": [
    "# Imports\n",
    "import tensorflow as tf\n",
    "from tf_agents.networks import q_network\n",
    "from tf_agents.agents.dqn import dqn_agent\n",
    "from tf_agents.environments import tf_py_environment\n",
    "from tf_agents.utils import common"
   ]
  },
  {
   "cell_type": "code",
   "execution_count": null,
   "id": "1cefe15d",
   "metadata": {},
   "outputs": [],
   "source": [
    "# Definiere die Umgebung\n",
    "env = LoginEnvWrapper()\n",
    "train_env = tf_py_environment.TFPyEnvironment(env)\n",
    "eval_env = tf_py_environment.TFPyEnvironment(env)"
   ]
  },
  {
   "cell_type": "code",
   "execution_count": null,
   "id": "65b590b8",
   "metadata": {},
   "outputs": [],
   "source": [
    "# Erstelle das Q-Network\n",
    "fc_layer_params = (64, 64)\n",
    "q_net = q_network.QNetwork(\n",
    "    train_env.observation_spec(),\n",
    "    train_env.action_spec(),\n",
    "    fc_layer_params=fc_layer_params)"
   ]
  },
  {
   "cell_type": "code",
   "execution_count": null,
   "id": "b5daa152",
   "metadata": {},
   "outputs": [],
   "source": [
    "# Konfiguriere den DQN-Agenten\n",
    "optimizer = tf.compat.v1.train.AdamOptimizer(learning_rate=0.001)\n",
    "train_step_counter = tf.Variable(0)\n",
    "agent = dqn_agent.DqnAgent(\n",
    "    train_env.time_step_spec(),\n",
    "    train_env.action_spec(),\n",
    "    q_network=q_net,\n",
    "    optimizer=optimizer,\n",
    "    td_errors_loss_fn=common.element_wise_squared_loss,\n",
    "    train_step_counter=train_step_counter)"
   ]
  },
  {
   "cell_type": "code",
   "execution_count": null,
   "id": "49895f6a",
   "metadata": {},
   "outputs": [],
   "source": [
    "# Initialisiere und kompiliere den Agenten\n",
    "agent.initialize()"
   ]
  },
  {
   "cell_type": "code",
   "execution_count": null,
   "id": "7e6e13ca",
   "metadata": {},
   "outputs": [],
   "source": [
    "from tf_agents.drivers import dynamic_step_driver\n",
    "from tf_agents.replay_buffers import tf_uniform_replay_buffer\n",
    "from tf_agents.trajectories import trajectory\n",
    "from tf_agents.utils import common\n",
    "from tf_agents.policies import boltzmann_policy\n",
    "\n",
    "\n",
    "\n",
    "# Boltzmann-Policy erstellen\n",
    "boltzmann_policy = boltzmann_policy.BoltzmannPolicy(agent.policy)\n",
    "\n",
    "# Replay Buffer für gesammelte Daten\n",
    "replay_buffer = tf_uniform_replay_buffer.TFUniformReplayBuffer(\n",
    "    data_spec=agent.collect_data_spec,\n",
    "    batch_size=env.batch_size,\n",
    "    max_length=100000)\n",
    "\n",
    "# Sammeln von Erfahrungen\n",
    "collect_driver = dynamic_step_driver.DynamicStepDriver(\n",
    "    env,\n",
    "    boltzmann_policy,\n",
    "    observers=[replay_buffer.add_batch],\n",
    "    num_steps=1)  # Anzahl der Schritte pro Datensammlung\n",
    "\n",
    "# Initialisieren\n",
    "agent.train = common.function(agent.train)\n",
    "agent.train_step_counter.assign(0)\n",
    "\n",
    "# Trainingsloop\n",
    "num_iterations = 20000  # Anzahl der Trainingsiterationen\n",
    "initial_collect_steps = 1000  # Anfangsphase: Sammeln ohne Training\n",
    "collect_steps_per_iteration = 1  # Schritte zwischen jedem Training\n",
    "batch_size = 64  # Batch-Größe für das Training\n",
    "\n",
    "# Anfangsphase: Sammeln von Erfahrungen ohne Training\n",
    "for _ in range(initial_collect_steps):\n",
    "    collect_driver.run()\n",
    "\n",
    "# Trainingsloop\n",
    "dataset = replay_buffer.as_dataset(\n",
    "    num_parallel_calls=3, \n",
    "    sample_batch_size=batch_size, \n",
    "    num_steps=2).prefetch(3)\n",
    "\n",
    "iterator = iter(dataset)\n",
    "\n",
    "for _ in range(num_iterations):\n",
    "    # Sammeln von Erfahrungen\n",
    "    collect_driver.run()\n",
    "    \n",
    "    # Erfahrungen aus dem Replay Buffer holen\n",
    "    experiences, _ = next(iterator)\n",
    "    \n",
    "    # Agenten trainieren\n",
    "    train_loss = agent.train(experiences).loss\n",
    "    \n",
    "    step = agent.train_step_counter.numpy()\n",
    "    \n",
    "    if step % 1000 == 0:\n",
    "        print('Schritt:', step, 'Verlust:', train_loss)"
   ]
  }
 ],
 "metadata": {
  "kernelspec": {
   "display_name": "Python 3 (ipykernel)",
   "language": "python",
   "name": "python3"
  },
  "language_info": {
   "codemirror_mode": {
    "name": "ipython",
    "version": 3
   },
   "file_extension": ".py",
   "mimetype": "text/x-python",
   "name": "python",
   "nbconvert_exporter": "python",
   "pygments_lexer": "ipython3",
   "version": "3.10.13"
  }
 },
 "nbformat": 4,
 "nbformat_minor": 5
}
